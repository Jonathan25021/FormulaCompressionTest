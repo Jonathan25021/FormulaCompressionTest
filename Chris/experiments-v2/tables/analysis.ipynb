{
 "cells": [
  {
   "cell_type": "code",
   "execution_count": 1,
   "metadata": {},
   "outputs": [],
   "source": [
    "import pandas as pd\n",
    "import shutil\n",
    "import os"
   ]
  },
  {
   "cell_type": "code",
   "execution_count": 2,
   "metadata": {},
   "outputs": [
    {
     "data": {
      "text/html": [
       "<div>\n",
       "<style scoped>\n",
       "    .dataframe tbody tr th:only-of-type {\n",
       "        vertical-align: middle;\n",
       "    }\n",
       "\n",
       "    .dataframe tbody tr th {\n",
       "        vertical-align: top;\n",
       "    }\n",
       "\n",
       "    .dataframe thead th {\n",
       "        text-align: right;\n",
       "    }\n",
       "</style>\n",
       "<table border=\"1\" class=\"dataframe\">\n",
       "  <thead>\n",
       "    <tr style=\"text-align: right;\">\n",
       "      <th></th>\n",
       "      <th>Dataset</th>\n",
       "      <th>Type</th>\n",
       "      <th>Vertices</th>\n",
       "      <th>Edges</th>\n",
       "    </tr>\n",
       "  </thead>\n",
       "  <tbody>\n",
       "    <tr>\n",
       "      <th>0</th>\n",
       "      <td>Enron</td>\n",
       "      <td>Original</td>\n",
       "      <td>27.1M</td>\n",
       "      <td>36.1M</td>\n",
       "    </tr>\n",
       "    <tr>\n",
       "      <th>1</th>\n",
       "      <td>Enron</td>\n",
       "      <td>TACO-InRow</td>\n",
       "      <td>12.1M</td>\n",
       "      <td>16.7M</td>\n",
       "    </tr>\n",
       "    <tr>\n",
       "      <th>2</th>\n",
       "      <td>Enron</td>\n",
       "      <td>TACO-Full</td>\n",
       "      <td>3.0M</td>\n",
       "      <td>2.4M</td>\n",
       "    </tr>\n",
       "    <tr>\n",
       "      <th>3</th>\n",
       "      <td>Github</td>\n",
       "      <td>Original</td>\n",
       "      <td>176.3M</td>\n",
       "      <td>234.6M</td>\n",
       "    </tr>\n",
       "    <tr>\n",
       "      <th>4</th>\n",
       "      <td>Github</td>\n",
       "      <td>TACO-InRow</td>\n",
       "      <td>58.2M</td>\n",
       "      <td>81.2M</td>\n",
       "    </tr>\n",
       "    <tr>\n",
       "      <th>5</th>\n",
       "      <td>Github</td>\n",
       "      <td>TACO-Full</td>\n",
       "      <td>4.7M</td>\n",
       "      <td>3.8M</td>\n",
       "    </tr>\n",
       "  </tbody>\n",
       "</table>\n",
       "</div>"
      ],
      "text/plain": [
       "  Dataset        Type Vertices   Edges\n",
       "0   Enron    Original    27.1M   36.1M\n",
       "1   Enron  TACO-InRow    12.1M   16.7M\n",
       "2   Enron   TACO-Full     3.0M    2.4M\n",
       "3  Github    Original   176.3M  234.6M\n",
       "4  Github  TACO-InRow    58.2M   81.2M\n",
       "5  Github   TACO-Full     4.7M    3.8M"
      ]
     },
     "execution_count": 2,
     "metadata": {},
     "output_type": "execute_result"
    }
   ],
   "source": [
    "tables = [pd.read_csv(os.path.join('data', f'table-{i}.csv')) for i in range(1, 6)]\n",
    "tables[0]"
   ]
  },
  {
   "cell_type": "code",
   "execution_count": 3,
   "metadata": {},
   "outputs": [],
   "source": [
    "# tables[0].set_index('Dataset', inplace=True)\n",
    "# tables[1].set_index('Dataset', inplace=True)\n",
    "# tables[2].set_index('Dataset', inplace=True)\n",
    "# tables[3].set_index('Pattern', inplace=True)\n",
    "# tables[4].set_index('Filename', inplace=True)"
   ]
  },
  {
   "cell_type": "code",
   "execution_count": 4,
   "metadata": {},
   "outputs": [],
   "source": [
    "shutil.rmtree('tables')\n",
    "!mkdir tables\n",
    "for i in range(len(tables)):\n",
    "  tables[i].to_latex(f'tables/table{i+1}.tex', index=False)"
   ]
  },
  {
   "cell_type": "code",
   "execution_count": null,
   "metadata": {},
   "outputs": [],
   "source": []
  }
 ],
 "metadata": {
  "interpreter": {
   "hash": "6bcc6b9502f25a33458fbdb905514109bdfbe09954dce579906a80919ed2aef2"
  },
  "kernelspec": {
   "display_name": "Python 3.9.5 64-bit ('venv': venv)",
   "name": "python3"
  },
  "language_info": {
   "codemirror_mode": {
    "name": "ipython",
    "version": 3
   },
   "file_extension": ".py",
   "mimetype": "text/x-python",
   "name": "python",
   "nbconvert_exporter": "python",
   "pygments_lexer": "ipython3",
   "version": "3.10.0"
  },
  "orig_nbformat": 4
 },
 "nbformat": 4,
 "nbformat_minor": 2
}
